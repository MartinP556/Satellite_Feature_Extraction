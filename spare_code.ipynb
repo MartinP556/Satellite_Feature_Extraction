{
 "cells": [
  {
   "cell_type": "code",
   "execution_count": null,
   "metadata": {},
   "outputs": [],
   "source": [
    "import cartopy.crs as ccrs\n",
    "fig,ax=plt.subplots(figsize=(20,20), subplot_kw={'projection': ccrs.PlateCarree()})\n",
    "#ax.coastlines(resolution='10m')\n",
    "plotter = ax.imshow(data, extent=[-180, 180, -59, 84], origin='upper', transform=ccrs.PlateCarree())\n",
    "ax.plot(x, y, color='red', transform=ccrs.PlateCarree())\n",
    "#ax.scatter(lon, lat, color='red', s=100)\n",
    "x , y = ax.transData.transform((lon, lat))\n",
    "x_axes, y_axes = ax.transAxes.inverted().transform((x, y))\n",
    "print((lon + 180)/360, (lat + 59)/143) ####THIS IS THE RIGHT ONE####\n",
    "print((lat + 84)/143)\n",
    "print(x_axes, y_axes)\n",
    "fig, ax = plt.subplots(figsize=(10, 10))\n",
    "plt.imshow(data)\n",
    "plt.colorbar()\n",
    "plt.scatter(x_axes*720, (1-y_axes)*286, c='r')\n",
    "plt.scatter((lon + 180)*720/360, (1 - (lat + 59)/143)*286, c='white')"
   ]
  },
  {
   "cell_type": "code",
   "execution_count": null,
   "metadata": {},
   "outputs": [],
   "source": [
    "#lat = 53.8833\n",
    "#lon  = 10.6667\n",
    "lat = -1.0\n",
    "lon = 35.5\n",
    "y = np.int32((2*lat) + 286/2) #*(286/360)\n",
    "x = np.int32((2*lon) + 720/2)"
   ]
  },
  {
   "cell_type": "code",
   "execution_count": null,
   "metadata": {},
   "outputs": [],
   "source": [
    "photo = Image.open(\"Useful_Files\\\\M1_SOS_WGS84.tif\")\n",
    "data = np.array(photo)"
   ]
  }
 ],
 "metadata": {
  "language_info": {
   "name": "python"
  }
 },
 "nbformat": 4,
 "nbformat_minor": 2
}
