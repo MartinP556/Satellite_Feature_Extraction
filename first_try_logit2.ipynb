{
 "cells": [
  {
   "cell_type": "code",
   "execution_count": 25,
   "metadata": {},
   "outputs": [],
   "source": [
    "import numpy as np\n",
    "import pandas as pd\n",
    "import scipy.optimize\n",
    "import matplotlib.pyplot as plt"
   ]
  },
  {
   "cell_type": "code",
   "execution_count": 18,
   "metadata": {},
   "outputs": [],
   "source": [
    "def double_logistic(x, a, b, c, d, e, f):\n",
    "    return a / (1 + np.exp(-b * (x - c))) + d / (1 + np.exp(-e * (x - f)))"
   ]
  },
  {
   "cell_type": "code",
   "execution_count": 33,
   "metadata": {},
   "outputs": [
    {
     "name": "stderr",
     "output_type": "stream",
     "text": [
      "C:\\Users\\wlwc1989\\AppData\\Local\\Temp\\ipykernel_18688\\2676897598.py:2: RuntimeWarning: overflow encountered in exp\n",
      "  return a / (1 + np.exp(-b * (x - c))) + d / (1 + np.exp(-e * (x - f)))\n",
      "C:\\Users\\wlwc1989\\AppData\\Local\\Temp\\ipykernel_18688\\1413816746.py:5: OptimizeWarning: Covariance of the parameters could not be estimated\n",
      "  params, _ = scipy.optimize.curve_fit(double_logistic, Times, NDVIs)\n"
     ]
    }
   ],
   "source": [
    "ds_nonneg = ds_year.loc[ds_year['NDVI'] > 0]\n",
    "Times = pd.DatetimeIndex(ds_nonneg['formatted_time']).dayofyear.values\n",
    "NDVIs = ds_nonneg['NDVI'].values\n",
    "\n",
    "params, _ = scipy.optimize.curve_fit(double_logistic, Times, NDVIs)"
   ]
  },
  {
   "cell_type": "code",
   "execution_count": 52,
   "metadata": {},
   "outputs": [],
   "source": [
    "def Maximum_Value_Composite(df, variable, window_size=8):\n",
    "    #time_period = (pd.DatetimeIndex(df['formatted_time']).max() - pd.DatetimeIndex(df['formatted_time']).min()).days\n",
    "    df['Is in MVI?'] = np.nan\n",
    "    time_counter = pd.DatetimeIndex(df['formatted_time']).min()\n",
    "    while time_counter < pd.DatetimeIndex(df['formatted_time']).max():\n",
    "        \n",
    "        time_counter += pd.Timedelta(days=1)\n",
    "    MVC_loc = df[variable].rolling(window=window_size, center=True).apply(lambda x: x.idxmax())#.max() \n",
    "    MVC = df.loc[np.isin(df.index, MVC_loc)]\n",
    "    return MVC, MVC_loc"
   ]
  },
  {
   "cell_type": "code",
   "execution_count": 80,
   "metadata": {},
   "outputs": [],
   "source": [
    "def max_in_region(df):\n",
    "    if len(df) == 0:\n",
    "        return df\n",
    "    else:\n",
    "        return df.loc[[df['NDVI'].idxmax()]]"
   ]
  },
  {
   "cell_type": "code",
   "execution_count": 104,
   "metadata": {},
   "outputs": [],
   "source": [
    "def max_value_int(df, window_size=8):\n",
    "    ds_year['formatted_time'] = pd.DatetimeIndex(ds_year['formatted_time'])\n",
    "    return ds_year.groupby(pd.Grouper(key='formatted_time',freq=f'{window_size}D')).apply(max_in_region)"
   ]
  },
  {
   "cell_type": "code",
   "execution_count": 112,
   "metadata": {},
   "outputs": [
    {
     "name": "stderr",
     "output_type": "stream",
     "text": [
      "C:\\Users\\wlwc1989\\AppData\\Local\\Temp\\ipykernel_18688\\2257597801.py:2: SettingWithCopyWarning: \n",
      "A value is trying to be set on a copy of a slice from a DataFrame.\n",
      "Try using .loc[row_indexer,col_indexer] = value instead\n",
      "\n",
      "See the caveats in the documentation: https://pandas.pydata.org/pandas-docs/stable/user_guide/indexing.html#returning-a-view-versus-a-copy\n",
      "  ds_year['formatted_time'] = pd.DatetimeIndex(ds_year['formatted_time'])\n",
      "C:\\Users\\wlwc1989\\AppData\\Local\\Temp\\ipykernel_18688\\2257597801.py:3: DeprecationWarning: DataFrameGroupBy.apply operated on the grouping columns. This behavior is deprecated, and in a future version of pandas the grouping columns will be excluded from the operation. Either pass `include_groups=False` to exclude the groupings or explicitly select the grouping columns after groupby to silence this warning.\n",
      "  return ds_year.groupby(pd.Grouper(key='formatted_time',freq=f'{window_size}D')).apply(max_in_region)\n",
      "C:\\Users\\wlwc1989\\AppData\\Local\\Temp\\ipykernel_18688\\2676897598.py:2: RuntimeWarning: overflow encountered in exp\n",
      "  return a / (1 + np.exp(-b * (x - c))) + d / (1 + np.exp(-e * (x - f)))\n"
     ]
    }
   ],
   "source": [
    "dfds = max_value_int(ds_year, window_size=11)\n",
    "#ds_nonneg = dfds.loc[dfds['NDVI'] > 0]\n",
    "Times = pd.DatetimeIndex(dfds['formatted_time']).dayofyear.values\n",
    "NDVIs = dfds['NDVI'].values\n",
    "\n",
    "params, _ = scipy.optimize.curve_fit(double_logistic, Times/365, NDVIs)"
   ]
  },
  {
   "cell_type": "code",
   "execution_count": 87,
   "metadata": {},
   "outputs": [
    {
     "name": "stderr",
     "output_type": "stream",
     "text": [
      "C:\\Users\\wlwc1989\\AppData\\Local\\Temp\\ipykernel_18688\\1648229502.py:1: SettingWithCopyWarning: \n",
      "A value is trying to be set on a copy of a slice from a DataFrame.\n",
      "Try using .loc[row_indexer,col_indexer] = value instead\n",
      "\n",
      "See the caveats in the documentation: https://pandas.pydata.org/pandas-docs/stable/user_guide/indexing.html#returning-a-view-versus-a-copy\n",
      "  ds_year['formatted_time'] = pd.DatetimeIndex(ds_year['formatted_time'])\n",
      "C:\\Users\\wlwc1989\\AppData\\Local\\Temp\\ipykernel_18688\\1648229502.py:2: DeprecationWarning: DataFrameGroupBy.apply operated on the grouping columns. This behavior is deprecated, and in a future version of pandas the grouping columns will be excluded from the operation. Either pass `include_groups=False` to exclude the groupings or explicitly select the grouping columns after groupby to silence this warning.\n",
      "  dfds = ds_year.groupby(pd.Grouper(key='formatted_time',freq='8D')).apply(max_in_region)\n"
     ]
    }
   ],
   "source": [
    "ds_year['formatted_time'] = pd.DatetimeIndex(ds_year['formatted_time'])\n",
    "dfds = ds_year.groupby(pd.Grouper(key='formatted_time',freq='8D')).apply(max_in_region)\n"
   ]
  },
  {
   "cell_type": "code",
   "execution_count": 85,
   "metadata": {},
   "outputs": [],
   "source": [
    "dfds = dfds.set_index('formatted_time')"
   ]
  },
  {
   "cell_type": "code",
   "execution_count": 65,
   "metadata": {},
   "outputs": [
    {
     "name": "stdout",
     "output_type": "stream",
     "text": [
      "359\n"
     ]
    }
   ],
   "source": [
    "print((pd.DatetimeIndex(ds_year['formatted_time']).max() - pd.DatetimeIndex(ds_year['formatted_time']).min()).days)"
   ]
  },
  {
   "cell_type": "code",
   "execution_count": 53,
   "metadata": {},
   "outputs": [],
   "source": [
    "ddd, ddf = Maximum_Value_Composite(ds_year, 'NDVI')"
   ]
  },
  {
   "cell_type": "code",
   "execution_count": null,
   "metadata": {},
   "outputs": [],
   "source": [
    "ddd"
   ]
  },
  {
   "cell_type": "code",
   "execution_count": 54,
   "metadata": {},
   "outputs": [
    {
     "data": {
      "text/plain": [
       "0        NaN\n",
       "1        NaN\n",
       "2        NaN\n",
       "3        NaN\n",
       "4        4.0\n",
       "       ...  \n",
       "105    101.0\n",
       "106    109.0\n",
       "107      NaN\n",
       "108      NaN\n",
       "109      NaN\n",
       "Name: NDVI, Length: 110, dtype: float64"
      ]
     },
     "execution_count": 54,
     "metadata": {},
     "output_type": "execute_result"
    }
   ],
   "source": [
    "ddf"
   ]
  },
  {
   "cell_type": "code",
   "execution_count": 98,
   "metadata": {},
   "outputs": [
    {
     "data": {
      "text/plain": [
       "array([  0.29506713,  15.61977155,   0.1674207 ,   0.22500325,\n",
       "       -68.65061133,   0.83387599])"
      ]
     },
     "execution_count": 98,
     "metadata": {},
     "output_type": "execute_result"
    }
   ],
   "source": [
    "params"
   ]
  },
  {
   "cell_type": "code",
   "execution_count": 113,
   "metadata": {},
   "outputs": [
    {
     "data": {
      "text/plain": [
       "<matplotlib.legend.Legend at 0x1f7344a5ad0>"
      ]
     },
     "execution_count": 113,
     "metadata": {},
     "output_type": "execute_result"
    },
    {
     "data": {
      "image/png": "[encoded data removed]",
      "text/plain": [
       "<Figure size 1000x500 with 1 Axes>"
      ]
     },
     "metadata": {},
     "output_type": "display_data"
    }
   ],
   "source": [
    "font_size = 23\n",
    "fig, ax = plt.subplots(figsize = (10, 5))\n",
    "ax.scatter(Times, NDVIs, label = 'Data')\n",
    "ax.plot(Times, double_logistic(Times/365, *params), label = 'Fit')\n",
    "ax.set_xlabel('Year', fontsize = font_size)\n",
    "ax.set_ylabel('Number of observations', fontsize = font_size)\n",
    "fig.suptitle('Number of observations of phase by year', fontsize = font_size)\n",
    "ax.legend(fontsize = font_size - 2, bbox_to_anchor=(0.7, -0.2))"
   ]
  },
  {
   "cell_type": "code",
   "execution_count": null,
   "metadata": {},
   "outputs": [],
   "source": [
    "def fit_many_curves(ds):\n",
    "    "
   ]
  },
  {
   "cell_type": "code",
   "execution_count": 2,
   "metadata": {},
   "outputs": [],
   "source": [
    "ds = pd.read_csv('C:\\\\Users\\\\wlwc1989\\\\Documents\\\\Phenology_Test_Notebooks\\\\earth_engine_MP\\\\Saved_files\\\\MODIS\\\\satdata0.csv')"
   ]
  },
  {
   "cell_type": "code",
   "execution_count": 6,
   "metadata": {},
   "outputs": [],
   "source": [
    "station = ds['Stations_Id'].unique()[0]"
   ]
  },
  {
   "cell_type": "code",
   "execution_count": 10,
   "metadata": {},
   "outputs": [],
   "source": [
    "def normalized_difference(x1, x2):\n",
    "    return (x1 - x2) / (x1 + x2)"
   ]
  },
  {
   "cell_type": "code",
   "execution_count": 16,
   "metadata": {},
   "outputs": [],
   "source": [
    "ds_station = ds.loc[(ds['Stations_Id'] == station)]\n",
    "ds_year = ds_station.loc[pd.DatetimeIndex(ds_station['formatted_time']).year  == 2020]\n"
   ]
  },
  {
   "cell_type": "code",
   "execution_count": 17,
   "metadata": {},
   "outputs": [
    {
     "data": {
      "text/html": [
       "<div>\n",
       "<style scoped>\n",
       "    .dataframe tbody tr th:only-of-type {\n",
       "        vertical-align: middle;\n",
       "    }\n",
       "\n",
       "    .dataframe tbody tr th {\n",
       "        vertical-align: top;\n",
       "    }\n",
       "\n",
       "    .dataframe thead th {\n",
       "        text-align: right;\n",
       "    }\n",
       "</style>\n",
       "<table border=\"1\" class=\"dataframe\">\n",
       "  <thead>\n",
       "    <tr style=\"text-align: right;\">\n",
       "      <th></th>\n",
       "      <th>Unnamed: 0</th>\n",
       "      <th>Time</th>\n",
       "      <th>lat</th>\n",
       "      <th>lon</th>\n",
       "      <th>Stations_Id</th>\n",
       "      <th>median sur_refl_b01</th>\n",
       "      <th>median sur_refl_b02</th>\n",
       "      <th>median sur_refl_b03</th>\n",
       "      <th>median sur_refl_b04</th>\n",
       "      <th>formatted_time</th>\n",
       "      <th>NDVI</th>\n",
       "    </tr>\n",
       "  </thead>\n",
       "  <tbody>\n",
       "    <tr>\n",
       "      <th>0</th>\n",
       "      <td>0</td>\n",
       "      <td>1577836800000</td>\n",
       "      <td>54.7833</td>\n",
       "      <td>9.4333</td>\n",
       "      <td>7501</td>\n",
       "      <td>1080.0</td>\n",
       "      <td>1386.0</td>\n",
       "      <td>1118.0</td>\n",
       "      <td>1089.0</td>\n",
       "      <td>2020-01-01-00-00-00</td>\n",
       "      <td>0.124088</td>\n",
       "    </tr>\n",
       "    <tr>\n",
       "      <th>1</th>\n",
       "      <td>3</td>\n",
       "      <td>1578096000000</td>\n",
       "      <td>54.7833</td>\n",
       "      <td>9.4333</td>\n",
       "      <td>7501</td>\n",
       "      <td>502.0</td>\n",
       "      <td>707.0</td>\n",
       "      <td>589.0</td>\n",
       "      <td>537.0</td>\n",
       "      <td>2020-01-04-00-00-00</td>\n",
       "      <td>0.169562</td>\n",
       "    </tr>\n",
       "    <tr>\n",
       "      <th>2</th>\n",
       "      <td>18</td>\n",
       "      <td>1579392000000</td>\n",
       "      <td>54.7833</td>\n",
       "      <td>9.4333</td>\n",
       "      <td>7501</td>\n",
       "      <td>827.0</td>\n",
       "      <td>1384.0</td>\n",
       "      <td>542.0</td>\n",
       "      <td>786.0</td>\n",
       "      <td>2020-01-19-00-00-00</td>\n",
       "      <td>0.251922</td>\n",
       "    </tr>\n",
       "    <tr>\n",
       "      <th>3</th>\n",
       "      <td>35</td>\n",
       "      <td>1580860800000</td>\n",
       "      <td>54.7833</td>\n",
       "      <td>9.4333</td>\n",
       "      <td>7501</td>\n",
       "      <td>546.0</td>\n",
       "      <td>1028.0</td>\n",
       "      <td>353.0</td>\n",
       "      <td>525.0</td>\n",
       "      <td>2020-02-05-00-00-00</td>\n",
       "      <td>0.306226</td>\n",
       "    </tr>\n",
       "    <tr>\n",
       "      <th>4</th>\n",
       "      <td>58</td>\n",
       "      <td>1582848000000</td>\n",
       "      <td>54.7833</td>\n",
       "      <td>9.4333</td>\n",
       "      <td>7501</td>\n",
       "      <td>146.0</td>\n",
       "      <td>410.0</td>\n",
       "      <td>83.0</td>\n",
       "      <td>68.0</td>\n",
       "      <td>2020-02-28-00-00-00</td>\n",
       "      <td>0.474820</td>\n",
       "    </tr>\n",
       "    <tr>\n",
       "      <th>...</th>\n",
       "      <td>...</td>\n",
       "      <td>...</td>\n",
       "      <td>...</td>\n",
       "      <td>...</td>\n",
       "      <td>...</td>\n",
       "      <td>...</td>\n",
       "      <td>...</td>\n",
       "      <td>...</td>\n",
       "      <td>...</td>\n",
       "      <td>...</td>\n",
       "      <td>...</td>\n",
       "    </tr>\n",
       "    <tr>\n",
       "      <th>105</th>\n",
       "      <td>335</td>\n",
       "      <td>1606780800000</td>\n",
       "      <td>54.7833</td>\n",
       "      <td>9.4333</td>\n",
       "      <td>7501</td>\n",
       "      <td>2637.0</td>\n",
       "      <td>2091.0</td>\n",
       "      <td>3925.0</td>\n",
       "      <td>3149.0</td>\n",
       "      <td>2020-12-01-00-00-00</td>\n",
       "      <td>-0.115482</td>\n",
       "    </tr>\n",
       "    <tr>\n",
       "      <th>106</th>\n",
       "      <td>350</td>\n",
       "      <td>1608076800000</td>\n",
       "      <td>54.7833</td>\n",
       "      <td>9.4333</td>\n",
       "      <td>7501</td>\n",
       "      <td>665.0</td>\n",
       "      <td>1154.0</td>\n",
       "      <td>613.0</td>\n",
       "      <td>675.0</td>\n",
       "      <td>2020-12-16-00-00-00</td>\n",
       "      <td>0.268829</td>\n",
       "    </tr>\n",
       "    <tr>\n",
       "      <th>107</th>\n",
       "      <td>353</td>\n",
       "      <td>1608336000000</td>\n",
       "      <td>54.7833</td>\n",
       "      <td>9.4333</td>\n",
       "      <td>7501</td>\n",
       "      <td>1269.0</td>\n",
       "      <td>1712.0</td>\n",
       "      <td>1316.0</td>\n",
       "      <td>1299.0</td>\n",
       "      <td>2020-12-19-00-00-00</td>\n",
       "      <td>0.148608</td>\n",
       "    </tr>\n",
       "    <tr>\n",
       "      <th>108</th>\n",
       "      <td>356</td>\n",
       "      <td>1608595200000</td>\n",
       "      <td>54.7833</td>\n",
       "      <td>9.4333</td>\n",
       "      <td>7501</td>\n",
       "      <td>1285.0</td>\n",
       "      <td>983.0</td>\n",
       "      <td>2211.0</td>\n",
       "      <td>1672.0</td>\n",
       "      <td>2020-12-22-00-00-00</td>\n",
       "      <td>-0.133157</td>\n",
       "    </tr>\n",
       "    <tr>\n",
       "      <th>109</th>\n",
       "      <td>359</td>\n",
       "      <td>1608854400000</td>\n",
       "      <td>54.7833</td>\n",
       "      <td>9.4333</td>\n",
       "      <td>7501</td>\n",
       "      <td>662.0</td>\n",
       "      <td>1178.0</td>\n",
       "      <td>497.0</td>\n",
       "      <td>608.0</td>\n",
       "      <td>2020-12-25-00-00-00</td>\n",
       "      <td>0.280435</td>\n",
       "    </tr>\n",
       "  </tbody>\n",
       "</table>\n",
       "<p>110 rows × 11 columns</p>\n",
       "</div>"
      ],
      "text/plain": [
       "     Unnamed: 0           Time      lat     lon  Stations_Id  \\\n",
       "0             0  1577836800000  54.7833  9.4333         7501   \n",
       "1             3  1578096000000  54.7833  9.4333         7501   \n",
       "2            18  1579392000000  54.7833  9.4333         7501   \n",
       "3            35  1580860800000  54.7833  9.4333         7501   \n",
       "4            58  1582848000000  54.7833  9.4333         7501   \n",
       "..          ...            ...      ...     ...          ...   \n",
       "105         335  1606780800000  54.7833  9.4333         7501   \n",
       "106         350  1608076800000  54.7833  9.4333         7501   \n",
       "107         353  1608336000000  54.7833  9.4333         7501   \n",
       "108         356  1608595200000  54.7833  9.4333         7501   \n",
       "109         359  1608854400000  54.7833  9.4333         7501   \n",
       "\n",
       "     median sur_refl_b01  median sur_refl_b02  median sur_refl_b03  \\\n",
       "0                 1080.0               1386.0               1118.0   \n",
       "1                  502.0                707.0                589.0   \n",
       "2                  827.0               1384.0                542.0   \n",
       "3                  546.0               1028.0                353.0   \n",
       "4                  146.0                410.0                 83.0   \n",
       "..                   ...                  ...                  ...   \n",
       "105               2637.0               2091.0               3925.0   \n",
       "106                665.0               1154.0                613.0   \n",
       "107               1269.0               1712.0               1316.0   \n",
       "108               1285.0                983.0               2211.0   \n",
       "109                662.0               1178.0                497.0   \n",
       "\n",
       "     median sur_refl_b04       formatted_time      NDVI  \n",
       "0                 1089.0  2020-01-01-00-00-00  0.124088  \n",
       "1                  537.0  2020-01-04-00-00-00  0.169562  \n",
       "2                  786.0  2020-01-19-00-00-00  0.251922  \n",
       "3                  525.0  2020-02-05-00-00-00  0.306226  \n",
       "4                   68.0  2020-02-28-00-00-00  0.474820  \n",
       "..                   ...                  ...       ...  \n",
       "105               3149.0  2020-12-01-00-00-00 -0.115482  \n",
       "106                675.0  2020-12-16-00-00-00  0.268829  \n",
       "107               1299.0  2020-12-19-00-00-00  0.148608  \n",
       "108               1672.0  2020-12-22-00-00-00 -0.133157  \n",
       "109                608.0  2020-12-25-00-00-00  0.280435  \n",
       "\n",
       "[110 rows x 11 columns]"
      ]
     },
     "execution_count": 17,
     "metadata": {},
     "output_type": "execute_result"
    }
   ],
   "source": [
    "ds_year"
   ]
  },
  {
   "cell_type": "code",
   "execution_count": 11,
   "metadata": {},
   "outputs": [],
   "source": [
    "ds['NDVI'] = (ds['median sur_refl_b02'] - ds['median sur_refl_b01'])/(ds['median sur_refl_b02'] + ds['median sur_refl_b01'])"
   ]
  },
  {
   "cell_type": "code",
   "execution_count": 34,
   "metadata": {},
   "outputs": [
    {
     "data": {
      "text/plain": [
       "'2020-01-01-00-00-00'"
      ]
     },
     "execution_count": 34,
     "metadata": {},
     "output_type": "execute_result"
    }
   ],
   "source": [
    "min(ds['formatted_time'])"
   ]
  },
  {
   "cell_type": "code",
   "execution_count": 33,
   "metadata": {},
   "outputs": [
    {
     "data": {
      "text/plain": [
       "Index([2020, 2020, 2020, 2020, 2020, 2020, 2020, 2020, 2020, 2020,\n",
       "       ...\n",
       "       2022, 2022, 2022, 2022, 2022, 2022, 2022, 2022, 2022, 2022],\n",
       "      dtype='int32', name='formatted_time', length=15346)"
      ]
     },
     "execution_count": 33,
     "metadata": {},
     "output_type": "execute_result"
    }
   ],
   "source": [
    "pd.DatetimeIndex(ds['formatted_time']).year#.astype('datetime64[Y]')"
   ]
  },
  {
   "cell_type": "code",
   "execution_count": 27,
   "metadata": {},
   "outputs": [
    {
     "name": "stderr",
     "output_type": "stream",
     "text": [
      "C:\\Users\\wlwc1989\\AppData\\Local\\Temp\\ipykernel_22204\\4040176187.py:1: UserWarning: Could not infer format, so each element will be parsed individually, falling back to `dateutil`. To ensure parsing is consistent and as-expected, please specify a format.\n",
      "  type(pd.to_datetime(ds['formatted_time'])[0])\n"
     ]
    },
    {
     "data": {
      "text/plain": [
       "pandas._libs.tslibs.timestamps.Timestamp"
      ]
     },
     "execution_count": 27,
     "metadata": {},
     "output_type": "execute_result"
    }
   ],
   "source": [
    "type(pd.to_datetime(ds['formatted_time'])[0])"
   ]
  },
  {
   "cell_type": "code",
   "execution_count": null,
   "metadata": {},
   "outputs": [],
   "source": []
  }
 ],
 "metadata": {
  "kernelspec": {
   "display_name": "Data_Analysis",
   "language": "python",
   "name": "python3"
  },
  "language_info": {
   "codemirror_mode": {
    "name": "ipython",
    "version": 3
   },
   "file_extension": ".py",
   "mimetype": "text/x-python",
   "name": "python",
   "nbconvert_exporter": "python",
   "pygments_lexer": "ipython3",
   "version": "3.11.10"
  }
 },
 "nbformat": 4,
 "nbformat_minor": 2
}
